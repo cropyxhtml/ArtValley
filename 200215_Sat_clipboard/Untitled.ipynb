{
 "cells": [
  {
   "cell_type": "code",
   "execution_count": null,
   "metadata": {},
   "outputs": [],
   "source": [
    "# b1.config(bg='yellow')\n",
    "# b1.config(bg='SystemButtonFace')\n",
    "import pyperclip\n",
    "import tkinter as tk\n",
    "from tkinter import ttk\n",
    "w = tk.Tk();text ='''공무내역을\n",
    "입력해주세요.'''\n",
    "w.title('Clipboard');#w.geometry('250x250')\n",
    "#버튼부\n",
    "b1 = tk.Button(w,text = '공무',relief='raised',font='bold 50')\n",
    "\n",
    "#하단부\n",
    "하단배경 = 'white'\n",
    "f1 = tk.Frame(w,relief='solid',bd=1,bg=하단배경)\n",
    "_l1 = tk.Label(f1,text='공무내역 :',bg=하단배경,justify='center')\n",
    "l1 = tk.Entry(f1,text=text,relief='solid',bd=2,bg=하단배경,)\n",
    "\n",
    "#함수부\n",
    "def checking():\n",
    "    temp_p=pyperclip.paste();text = l1.get()\n",
    "    if temp_p == text:b1.config(bg='yellow',relief='sunken')\n",
    "    else:b1.config(relief='raised',bg='SystemButtonFace')\n",
    "    w.after(200,checking)\n",
    "def push_after_button():text = l1.get();pyperclip.copy(text)\n",
    "    \n",
    "#arrangement\n",
    "b1.config(command=push_after_button)\n",
    "b1.pack(padx=15,pady=15)\n",
    "f1.pack(fill=tk.BOTH)\n",
    "# _l1.grid(column=1,row=1,sticky='w')\n",
    "# l1.grid(column=2,row=1,sticky='e)\n",
    "_l1.pack(side='left')\n",
    "l1.pack(fill='both')\n",
    "# print(l1.grid_bbox())\n",
    "checking()\n",
    "w.mainloop()\n"
   ]
  }
 ],
 "metadata": {
  "kernelspec": {
   "display_name": "Python 3",
   "language": "python",
   "name": "python3"
  },
  "language_info": {
   "codemirror_mode": {
    "name": "ipython",
    "version": 3
   },
   "file_extension": ".py",
   "mimetype": "text/x-python",
   "name": "python",
   "nbconvert_exporter": "python",
   "pygments_lexer": "ipython3",
   "version": "3.7.4"
  }
 },
 "nbformat": 4,
 "nbformat_minor": 2
}
