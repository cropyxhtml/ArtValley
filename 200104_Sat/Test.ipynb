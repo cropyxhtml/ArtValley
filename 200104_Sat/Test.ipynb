{
 "cells": [
  {
   "cell_type": "markdown",
   "metadata": {},
   "source": [
    "### win32gui, win32api, win32process, win32com.client, win32com.shell, win32con"
   ]
  },
  {
   "cell_type": "markdown",
   "metadata": {},
   "source": [
    "##### @EXCEL Name_Check"
   ]
  },
  {
   "cell_type": "code",
   "execution_count": null,
   "metadata": {},
   "outputs": [],
   "source": [
    "'''1'''\n",
    "windows = []\n",
    "win32gui.EnumWindows(lambda hwnd, resultList: resultList.append(win32gui.GetWindowText(hwnd)),windows)\n",
    "#enumerates all the windows open from the top down\n",
    "print([i for i in windows if \"Microsoft Excel\" in i].pop(0))\n",
    "#this one is closest to the top\n",
    "'''2'''\n",
    "import xlwings;print(xlwings.books.active.name)"
   ]
  },
  {
   "cell_type": "markdown",
   "metadata": {},
   "source": [
    "##### @Current Window_Name Check"
   ]
  },
  {
   "cell_type": "code",
   "execution_count": 13,
   "metadata": {},
   "outputs": [
    {
     "name": "stdout",
     "output_type": "stream",
     "text": [
      "['배터리 수준', 'Network Flyout', 'Test - Jupyter Notebook - Chrome', '모니터링 프로그램', '통합센터 차량관리', 'Configure Register and Report', '제목 없음 - 그림판', '다운로드', '200104', 'G', '작업 관리자', 'G', '관리자: C:\\\\WINDOWS\\\\system32\\\\cmd.exe', '관리자: C:\\\\WINDOWS\\\\system32\\\\cmd.exe - jupyter  notebook', 'G Macro  ver 2.0  [대기중]', '질문을 입력하십시오.', 'Microsoft Visual Basic - Book1', '속성', 'Microsoft Excel - Book1', 'DDE Server Window', 'GDI+ Window', '업무비망록2.hwp [F:\\\\업무비망록\\\\] - 한컴오피스 한글', 'TeamViewer 제어판(최소화됨)', 'TeamViewer 제어판', 'HimTrayIcon', 'DDE Server Window', 'G', '.NET-BroadcastEventWindow.4.0.0.0.c3fd56.0', 'MsgWnd', 'G', 'C:\\\\Program Files\\\\Samsung\\\\SamsungUpdate\\\\SUEngine.exe', '##VSO###MCVSSHLD##', 'McPlatformSingleExeFramework', 'Microsoft Store', 'Microsoft Store', '.NET-BroadcastEventWindow.4.0.0.0.141b42a.0', 'G', 'Microsoft Edge', '시작', 'Microsoft Edge', 'TeamViewer', 'TeamViewer - 파일 전송 이벤트 로그', 'TVMainThreadCall', 'G', '진행률', 'Task Host Window', '.NET-BroadcastEventWindow.4.0.0.0.34f5582.0', 'G', 'Microsoft Text Input Application', 'CAvastTrayIcon', 'DDE Server Window', 'OneDrive', 'RealtekAudioBackgroundProcessClass', 'Realtek HD Audio CPL for Vista', 'G', 'SecurityHealthSystray', 'Window', 'MS_WebcheckMonitor', 'BluetoothNotificationAreaIconWindowClass', 'WinVNC Tray Icon', 'DDE Server Window', 'SamsungSettingsExpansionUI', 'G', 'G', 'SamsungSettingsExpansionPack', 'The Event Manager Dashboard', 'sServiceKeyMonitor', 'Windows Push Notifications Platform', 'Task Host Window', 'DWM Notification Window', '{30A1588D-127B-4CC0-BA47-B11825F07731}', 'Microsoft Edge', 'Program Manager', 'MSCTFIME UI', 'Default IME', 'MSCTFIME UI', 'Default IME', 'MSCTFIME UI', 'Default IME', 'Default IME', 'MSCTFIME UI', 'Default IME', 'MSCTFIME UI', 'Default IME', 'MSCTFIME UI', 'Default IME', 'MSCTFIME UI', 'Default IME', 'MSCTFIME UI', 'Default IME', 'MSCTFIME UI', 'Default IME', 'MSCTFIME UI', 'Default IME', 'Default IME', 'MSCTFIME UI', 'Default IME', 'Default IME', 'Default IME', 'MSCTFIME UI', 'Default IME', 'MSCTFIME UI', 'Default IME', 'MSCTFIME UI', 'Default IME', 'MSCTFIME UI', 'Default IME', 'Default IME', 'Default IME', 'Default IME', 'Default IME', 'Default IME', 'MSCTFIME UI', 'Default IME', 'Default IME', 'Default IME', 'Default IME', 'MSCTFIME UI', 'Default IME', 'Default IME', 'Default IME', 'Default IME', 'Default IME', 'Default IME', 'Default IME', 'Default IME', 'Default IME', 'Default IME', 'Default IME', 'Default IME', 'MSCTFIME UI', 'Default IME', 'Default IME', 'Default IME', 'Default IME', 'Default IME', 'Default IME', 'MSCTFIME UI', 'Default IME', 'Default IME', 'Default IME', 'Default IME', 'MSCTFIME UI', 'Default IME', 'Default IME', 'Default IME', 'MSCTFIME UI', 'Default IME', 'Default IME', 'Default IME', 'Default IME', 'MSCTFIME UI', 'Default IME', 'Default IME', 'Default IME', 'Default IME', 'Default IME', 'MSCTFIME UI', 'Default IME', 'Default IME', 'Default IME', 'MSCTFIME UI', 'Default IME', 'MSCTFIME UI', 'Default IME', 'Default IME', 'Default IME', 'Default IME', 'MSCTFIME UI', 'Default IME']\n",
      "모니터링 프로그램\n",
      "종료\n"
     ]
    }
   ],
   "source": [
    "import win32gui,keyboard,time\n",
    "from IPython.display import clear_output\n",
    "windows=[];win32gui.EnumWindows(lambda hwnd, resultList: resultList.append(win32gui.GetWindowText(hwnd)),windows);windows = [i for i in windows if i];print(windows)\n",
    "def pt(interval):\n",
    "    global a\n",
    "    a=1\n",
    "    ptime = time.time() + 1\n",
    "    while True:\n",
    "        if keyboard.is_pressed('q'):a=0;break;\n",
    "        if time.time() >= ptime:break\n",
    "while True:\n",
    "    clear_output()\n",
    "    print(windows)\n",
    "    print(win32gui.GetWindowText(win32gui.GetForegroundWindow()))\n",
    "    pt(1)\n",
    "    if a ==0:print('종료');break"
   ]
  },
  {
   "cell_type": "markdown",
   "metadata": {},
   "source": [
    "##### @Check Coordinate_Process_Square"
   ]
  },
  {
   "cell_type": "code",
   "execution_count": 2,
   "metadata": {},
   "outputs": [
    {
     "name": "stdout",
     "output_type": "stream",
     "text": [
      "(320, 8, 1600, 1032)\n"
     ]
    }
   ],
   "source": [
    "import win32gui\n",
    "rect = win32gui.GetWindowRect(win32gui.FindWindow(None,'모니터링 프로그램'));print(rect)"
   ]
  },
  {
   "cell_type": "code",
   "execution_count": null,
   "metadata": {},
   "outputs": [],
   "source": [
    "from PIL import ImageGrab\n",
    "import numpy as np\n",
    "import cv2\n",
    "while True:\n",
    "    cv2.imshow('window',cv2.cvtColor(np.array(ImageGrab.grab(bbox=rect)),cv2.COLOR_BGR2RGB))\n",
    "    if cv2.waitKey(25) == ord('q'):cv2.destroyAllWindows();break\n"
   ]
  },
  {
   "cell_type": "code",
   "execution_count": null,
   "metadata": {},
   "outputs": [],
   "source": [
    "import win32gui\n",
    "HWND = win32gui.FindWindow(None, '');rect = win32gui.GetWindowRect(HWND)\n"
   ]
  },
  {
   "cell_type": "code",
   "execution_count": null,
   "metadata": {},
   "outputs": [],
   "source": [
    "win32process.GetWindowThreadProcessId(win32gui.GetForegroundWindow())"
   ]
  },
  {
   "cell_type": "code",
   "execution_count": null,
   "metadata": {},
   "outputs": [],
   "source": [
    "process_num = win32gui.GetForegroundWindow();print(process_num)\n",
    "win32gui.GetWindowText(process_num)"
   ]
  },
  {
   "cell_type": "code",
   "execution_count": null,
   "metadata": {},
   "outputs": [],
   "source": [
    "import threading, win32gui, win32process, psutil\n",
    "from tkinter import *\n",
    "root = Tk()\n",
    "s = StringVar()\n",
    "def active_window_process_name():\n",
    "    try:\n",
    "        pid = win32process.GetWindowThreadProcessId(win32gui.GetForegroundWindow())\n",
    "        return(psutil.Process(pid[-1]).name())\n",
    "    except:\n",
    "        pass\n",
    "def to_label():\n",
    "    global s\n",
    "    while True:\n",
    "        s.set(active_window_process_name())\n",
    "    return\n",
    "\n",
    "Label(root,textvariable=s).pack()\n",
    "if __name__ == \"__main__\":\n",
    "    t = threading.Thread(target = to_label)\n",
    "    t.start()\n",
    "    root.mainloop()"
   ]
  },
  {
   "cell_type": "code",
   "execution_count": null,
   "metadata": {},
   "outputs": [],
   "source": [
    "import win32com.client,xlwings\n",
    "import xlwings\n",
    "print(xlwings.books.active.name)\n",
    "wmi=win32com.client.GetObject('winmgmts:')\n",
    "print(len(wmi.InstancesOf('win32_process')))\n",
    "for idx,p in enumerate(wmi.InstancesOf('win32_process')):\n",
    "    print('{:03d}. '.format(idx+1),end='');process_num = int(p.Properties_('UserModeTime').Value)+int(p.Properties_('KernelModeTime').Value)\n",
    "    print (p.Name, p.Properties_('ProcessId'), process_num);p.\n",
    "        \n",
    "    '''children=wmi.ExecQuery('Select * from win32_process where ParentProcessId=%s' %p.Properties_('ProcessId'))\n",
    "    for child in children:\n",
    "        print ('\\t',child.Name,child.Properties_('ProcessId'), \\\n",
    "            int(child.Properties_('UserModeTime').Value)+int(child.Properties_('KernelModeTime').Value))'''"
   ]
  },
  {
   "cell_type": "code",
   "execution_count": null,
   "metadata": {},
   "outputs": [],
   "source": [
    "print(\"Open forlder's files :\")\n",
    "import os,sys,win32con,win32api,win32gui,win32com.client,pythoncom\n",
    "from win32com.shell import shell, shellcon\n",
    "\n",
    "# Get list of paths from given Explorer window or from all Explorer windows.\n",
    "def get_explorer_files( hwndOfExplorer = 0, selectedOnly = False ):\n",
    "    paths = []\n",
    "\n",
    "    # Create instance of IShellWindows (I couldn't find a constant in pywin32)\n",
    "    CLSID_IShellWindows = \"{9BA05972-F6A8-11CF-A442-00A0C90A8F39}\"\n",
    "    shellwindows = win32com.client.Dispatch(CLSID_IShellWindows)\n",
    "\n",
    "    # Loop over all currently open Explorer windows\n",
    "    for window in shellwindows:\n",
    "        # Skip windows we are not interested in.\n",
    "        if hwndOfExplorer != 0 and hwndOfExplorer != window.HWnd:\n",
    "            continue\n",
    "\n",
    "        # Get IServiceProvider interface\n",
    "        sp = window._oleobj_.QueryInterface( pythoncom.IID_IServiceProvider )\n",
    "\n",
    "        # Query the IServiceProvider for IShellBrowser\n",
    "        shBrowser = sp.QueryService( shell.SID_STopLevelBrowser, shell.IID_IShellBrowser )\n",
    "\n",
    "        # Get the active IShellView object\n",
    "        shView = shBrowser.QueryActiveShellView()\n",
    "\n",
    "        # Get an IDataObject that contains the items of the view (either only selected or all). \n",
    "        aspect = shellcon.SVGIO_SELECTION if selectedOnly else shellcon.SVGIO_ALLVIEW\n",
    "        items = shView.GetItemObject( aspect, pythoncom.IID_IDataObject )\n",
    "\n",
    "        # Get the paths in drag-n-drop clipboard format. We don't actually use \n",
    "        # the clipboard, but this format makes it easy to extract the file paths.\n",
    "        # Use CFSTR_SHELLIDLIST instead of CF_HDROP if you want to get ITEMIDLIST \n",
    "        # (aka PIDL) format, but you can't use the simple DragQueryFileW() API then. \n",
    "        data = items.GetData(( win32con.CF_HDROP, None, pythoncom.DVASPECT_CONTENT, -1, pythoncom.TYMED_HGLOBAL ))\n",
    "\n",
    "        # Use drag-n-drop API to extract the individual paths.\n",
    "        numPaths = shell.DragQueryFileW( data.data_handle, -1 )\n",
    "        paths.extend([\n",
    "            shell.DragQueryFileW( data.data_handle, i ) \\\n",
    "                for i in range( numPaths )\n",
    "        ])\n",
    "\n",
    "        if hwndOfExplorer != 0:\n",
    "            break\n",
    "\n",
    "    return paths\n",
    "\n",
    "try:\n",
    "    # Use hwnd value of 0 to list files of ALL explorer windows...\n",
    "    hwnd = 0  \n",
    "    # ... or restrict to given window:\n",
    "    #hwnd = win32gui.GetForegroundWindow()\n",
    "    selectedOnly = False\n",
    "    print( *get_explorer_files( hwnd, selectedOnly ), sep=\"\\n\" )\n",
    "except Exception as e:\n",
    "    print( \"ERROR: \", e )"
   ]
  },
  {
   "cell_type": "code",
   "execution_count": null,
   "metadata": {},
   "outputs": [],
   "source": []
  }
 ],
 "metadata": {
  "kernelspec": {
   "display_name": "Python 3",
   "language": "python",
   "name": "python3"
  },
  "language_info": {
   "codemirror_mode": {
    "name": "ipython",
    "version": 3
   },
   "file_extension": ".py",
   "mimetype": "text/x-python",
   "name": "python",
   "nbconvert_exporter": "python",
   "pygments_lexer": "ipython3",
   "version": "3.7.4"
  }
 },
 "nbformat": 4,
 "nbformat_minor": 2
}
