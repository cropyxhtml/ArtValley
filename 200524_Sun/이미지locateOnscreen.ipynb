{
 "cells": [
  {
   "cell_type": "code",
   "execution_count": null,
   "metadata": {},
   "outputs": [],
   "source": [
    "import pyautogui,time,threading,datetime,keyboard;from twilio.rest import Client\n",
    "t1 = threading.Thread(target=미인식알림);i=1;종료=0\n",
    "실행 = {'미인식':'m0.PNG','닫기':'c0.PNG'}\n",
    "while True:\n",
    "    p_time = time.time()+3\n",
    "    while True:\n",
    "        if time.time() > p_time:break\n",
    "        if keyboard.is_pressed('q'):print('종료');종료=1;break\n",
    "    미인식 = pyautogui.locateOnScreen('m0.PNG');닫기 = pyautogui.locateOnScreen('c0.PNG')\n",
    "    if 미인식 != None :\n",
    "        시각 = datetime.datetime.now().strftime('%Y%m%d_%H:%M:%S')\n",
    "        i+=1;print(시각,'미인식'+str(i));t1.start();pyautogui.click(pyautogui.center(미인식),interval=0.5);메세지(시각+' 미인식: '+str(i)+'건째 발생')\n",
    "        if 닫기 !=None:print(datetime.datetime.now().strftime('%Y%m%d_%H:%M:%S'),'닫기');pyautogui.click(pyautogui.center(닫기),interval=1)\n",
    "    if 종료==1:break"
   ]
  },
  {
   "cell_type": "code",
   "execution_count": 5,
   "metadata": {},
   "outputs": [],
   "source": [
    "from twilio.rest import Client;import datetime\n",
    "def 메세지(body):\n",
    "    TWILIO_ACCOUNT_SID = 'AC65417bf11943b9c0e82989c5d5f41b6c'\n",
    "    TWILIO_AUTH_TOKEN = '75a94ef10b8f441e8eb786ffffe3cced'\n",
    "    client = Client(TWILIO_ACCOUNT_SID, TWILIO_AUTH_TOKEN)\n",
    "    body = body\n",
    "    client.messages.create(\n",
    "    to=\"+821066280136\",\n",
    "    from_=\"+12058501917\", # twilio에서 발급받은 미국 전화번호\n",
    "    body=body)"
   ]
  },
  {
   "cell_type": "code",
   "execution_count": 8,
   "metadata": {},
   "outputs": [],
   "source": [
    "import tkinter as tk;from PIL import ImageTk,Image;i=0;#import queue\n",
    "# Image.LOAD_TRUNCATED_IMAGES = True    \n",
    "def 미인식알림(event=0):\n",
    "    global i\n",
    "    im = rec()\n",
    "    w = tk.Tk()\n",
    "    im = ImageTk.PhotoImage(im)\n",
    "    w.title(datetime.datetime.now().strftime('%Y%m%d_%H:%M:%S')+' 미인식_알림: '+str(i))\n",
    "    w.attributes(\"-topmost\", True)\n",
    "    L1 = tk.Label(image=im)\n",
    "    # L1.image = render\n",
    "    L1.pack()\n",
    "    \n",
    "    w.mainloop()\n",
    "# queue = queue.Queue()\n",
    "from threading import Thread\n",
    "f1 = Thread(target=미인식알림,)#args=(queue,))\n",
    "# f1.setDaemon(True)\n",
    "f1.start()\n"
   ]
  },
  {
   "cell_type": "code",
   "execution_count": 1,
   "metadata": {},
   "outputs": [],
   "source": [
    "import cv2,win32gui,win32ui;from PIL import Image;import numpy as np;from ctypes import windll\n",
    "def rec():\n",
    "    hwnd = win32gui.FindWindow(None,'모니터링 프로그램');hwndDC = win32gui.GetWindowDC(hwnd)\n",
    "    left,top,right,bot = win32gui.GetWindowRect(hwnd);w = right-left;h = bot - top\n",
    "\n",
    "    handle  = win32ui.CreateDCFromHandle(hwndDC)\n",
    "    compatible = handle.CreateCompatibleDC()\n",
    "    bitmap = win32ui.CreateBitmap()\n",
    "    bitmap.CreateCompatibleBitmap(handle, w, h)\n",
    "\n",
    "    compatible.SelectObject(bitmap)\n",
    "    result = windll.user32.PrintWindow(hwnd, compatible.GetSafeHdc(), 0)#@@@@@@@@@@@@@@@@@@@@@@@@@@@@@@@@@@@@@@@@@@\n",
    "    bmpinfo = bitmap.GetInfo()\n",
    "    bmpstr = bitmap.GetBitmapBits(True)\n",
    "\n",
    "    im = Image.frombuffer(\n",
    "        'RGB',\n",
    "        (bmpinfo['bmWidth'], bmpinfo['bmHeight']),\n",
    "        bmpstr, 'raw', 'BGRX', 0, 1)\n",
    "    win32gui.DeleteObject(bitmap.GetHandle())\n",
    "    compatible.DeleteDC()\n",
    "    handle.DeleteDC()\n",
    "    win32gui.ReleaseDC(hwnd, hwndDC)\n",
    "    return im"
   ]
  }
 ],
 "metadata": {
  "kernelspec": {
   "display_name": "Python 3",
   "language": "python",
   "name": "python3"
  },
  "language_info": {
   "codemirror_mode": {
    "name": "ipython",
    "version": 3
   },
   "file_extension": ".py",
   "mimetype": "text/x-python",
   "name": "python",
   "nbconvert_exporter": "python",
   "pygments_lexer": "ipython3",
   "version": "3.7.4"
  }
 },
 "nbformat": 4,
 "nbformat_minor": 2
}
