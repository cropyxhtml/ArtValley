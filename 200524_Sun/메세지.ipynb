{
 "cells": [
  {
   "cell_type": "code",
   "execution_count": 5,
   "metadata": {},
   "outputs": [
    {
     "data": {
      "text/plain": [
       "<Twilio.Api.V2010.MessageInstance account_sid=AC65417bf11943b9c0e82989c5d5f41b6c sid=SMfadbd75cb3f14eedbdc713447dd21895>"
      ]
     },
     "execution_count": 5,
     "metadata": {},
     "output_type": "execute_result"
    }
   ],
   "source": [
    "from twilio.rest import Client;import datetime\n",
    "TWILIO_ACCOUNT_SID = 'AC65417bf11943b9c0e82989c5d5f41b6c'\n",
    "TWILIO_AUTH_TOKEN = '75a94ef10b8f441e8eb786ffffe3cced'\n",
    "client = Client(TWILIO_ACCOUNT_SID, TWILIO_AUTH_TOKEN)\n",
    "body = datetime.datetime.now().strftime('%Y.%m.%d_%H:%M:%S')\n",
    "client.messages.create(\n",
    "to=\"+821066280136\",\n",
    "from_=\"+12058501917\", # twilio에서 발급받은 미국 전화번호\n",
    "body=body\n",
    ")"
   ]
  }
 ],
 "metadata": {
  "kernelspec": {
   "display_name": "Python 3",
   "language": "python",
   "name": "python3"
  },
  "language_info": {
   "codemirror_mode": {
    "name": "ipython",
    "version": 3
   },
   "file_extension": ".py",
   "mimetype": "text/x-python",
   "name": "python",
   "nbconvert_exporter": "python",
   "pygments_lexer": "ipython3",
   "version": "3.7.4"
  }
 },
 "nbformat": 4,
 "nbformat_minor": 2
}
