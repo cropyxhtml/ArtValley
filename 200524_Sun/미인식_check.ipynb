{
 "cells": [
  {
   "cell_type": "markdown",
   "metadata": {},
   "source": [
    "### SetForeground를 통한 캡쳐"
   ]
  },
  {
   "cell_type": "code",
   "execution_count": 22,
   "metadata": {},
   "outputs": [],
   "source": [
    "from PIL import ImageGrab\n",
    "from ctypes import windll\n",
    "import win32gui, win32ui\n",
    "import win32gui, win32com.client;shell = win32com.client.Dispatch(\"WScript.Shell\");shell.SendKeys('%')\n",
    "hwnd = win32gui.FindWindow(None,'모니터링 프로그램')\n",
    "dimension = win32gui.GetWindowRect(hwnd);left,top,right,bot=dimension\n",
    "win32gui.SetForegroundWindow(hwnd)\n",
    "im = ImageGrab.grab(dimension)\n",
    "im.show()"
   ]
  },
  {
   "cell_type": "code",
   "execution_count": 11,
   "metadata": {},
   "outputs": [
    {
     "name": "stdout",
     "output_type": "stream",
     "text": [
      "c_ulong(31348)\n",
      "13438018\n",
      "29960\n",
      "13438018\n"
     ]
    }
   ],
   "source": [
    "import ctypes\n",
    "pid = ctypes.wintypes.DWORD()\n",
    "active = ctypes.windll.user32.GetForegroundWindow()\n",
    "active_window = ctypes.windll.user32.GetWindowThreadProcessId(active,ctypes.byref(pid)) \n",
    "print(pid,active,active_window,sep='\\n')\n",
    "print(int('0xcd0c42',16))"
   ]
  },
  {
   "cell_type": "code",
   "execution_count": 3,
   "metadata": {},
   "outputs": [
    {
     "name": "stdout",
     "output_type": "stream",
     "text": [
      "0x2012c \n",
      "0xcd0c42 미인식_check - Jupyter Notebook - Chrome\n",
      "0x309be 모니터링 프로그램\n",
      "0x2320c48 C:\\ProgramData\\Anaconda3\\Scripts\\jupyter.exe\n",
      "0x60374 Configure Register and Report\n",
      "0x10c20 \n",
      "0x9d0bc2 ::+대한민국 공영주차 사이트에 오신것을 환영합니다+:: - Internet Explorer\n",
      "0x8a0d4c \n",
      "0x9a0624 계산기\n",
      "0x90b16 계산기\n",
      "0x10a22 Microsoft Text Input Application\n",
      "0x40518 \n",
      "0x30054 \n",
      "0x20034 \n",
      "0x1024a \n",
      "0x10248 \n",
      "0x20c26 \n",
      "0x101c0 Program Manager\n"
     ]
    }
   ],
   "source": [
    "import win32gui\n",
    "def winEnumHandler( hwnd, ctx ):\n",
    "    if win32gui.IsWindowVisible( hwnd ):\n",
    "        print (hex(hwnd), win32gui.GetWindowText( hwnd ))\n",
    "\n",
    "win32gui.EnumWindows( winEnumHandler, None )"
   ]
  },
  {
   "cell_type": "markdown",
   "metadata": {},
   "source": [
    "### windll 저장"
   ]
  },
  {
   "cell_type": "code",
   "execution_count": 49,
   "metadata": {},
   "outputs": [],
   "source": [
    "import win32gui\n",
    "import win32ui\n",
    "from ctypes import windll\n",
    "from PIL import Image\n",
    "\n",
    "hwnd = win32gui.FindWindow(None, '모니터링 프로그램')\n",
    "\n",
    "# Change the line below depending on whether you want the whole window\n",
    "# or just the client area. \n",
    "#left, top, right, bot = win32gui.GetClientRect(hwnd)\n",
    "left, top, right, bot = win32gui.GetWindowRect(hwnd)\n",
    "w = right - left\n",
    "h = bot - top\n",
    "\n",
    "hwndDC = win32gui.GetWindowDC(hwnd)\n",
    "mfcDC  = win32ui.CreateDCFromHandle(hwndDC)\n",
    "saveDC = mfcDC.CreateCompatibleDC()\n",
    "\n",
    "saveBitMap = win32ui.CreateBitmap()\n",
    "saveBitMap.CreateCompatibleBitmap(mfcDC, w, h)\n",
    "\n",
    "saveDC.SelectObject(saveBitMap)\n",
    "\n",
    "# Change the line below depending on whether you want the whole window\n",
    "# or just the client area. \n",
    "#result = windll.user32.PrintWindow(hwnd, saveDC.GetSafeHdc(), 1)\n",
    "result = windll.user32.PrintWindow(hwnd, saveDC.GetSafeHdc(), 0)\n",
    "\n",
    "\n",
    "bmpinfo = saveBitMap.GetInfo()\n",
    "bmpstr = saveBitMap.GetBitmapBits(True)\n",
    "\n",
    "im = Image.frombuffer(\n",
    "    'RGB',\n",
    "    (bmpinfo['bmWidth'], bmpinfo['bmHeight']),\n",
    "    bmpstr, 'raw', 'BGRX', 0, 1)\n",
    "\n",
    "win32gui.DeleteObject(saveBitMap.GetHandle())\n",
    "saveDC.DeleteDC()\n",
    "mfcDC.DeleteDC()\n",
    "win32gui.ReleaseDC(hwnd, hwndDC)\n",
    "\n",
    "if result == 1:\n",
    "    #PrintWindow Succeeded\n",
    "    im.save(\"test.png\")"
   ]
  },
  {
   "cell_type": "code",
   "execution_count": 13,
   "metadata": {},
   "outputs": [
    {
     "name": "stdout",
     "output_type": "stream",
     "text": [
      "hwnd: 199102\n",
      "hwndDC: 1761679725\n",
      "mfcDC: object 'PyCDC' - assoc is 000001EB7EB75018, vi=<None>\n",
      "saveDC: object 'PyCDC' - assoc is 000001EB7EB75038, vi=<None>\n",
      "saveBitMap: object 'PyCBitmap' - assoc is 000001EB0015CB50, vi=<None>\n",
      "object 'PyCBitmap' - assoc is 000001EB0015CB50, vi=<None>\n"
     ]
    },
    {
     "name": "stderr",
     "output_type": "stream",
     "text": [
      "IOPub data rate exceeded.\n",
      "The notebook server will temporarily stop sending output\n",
      "to the client in order to avoid crashing it.\n",
      "To change this limit, set the config variable\n",
      "`--NotebookApp.iopub_data_rate_limit`.\n",
      "\n",
      "Current values:\n",
      "NotebookApp.iopub_data_rate_limit=1000000.0 (bytes/sec)\n",
      "NotebookApp.rate_limit_window=3.0 (secs)\n",
      "\n"
     ]
    }
   ],
   "source": [
    "import inspect,win32gui,win32ui;from PIL import Image\n",
    "from ctypes import windll\n",
    "\n",
    "hwnd = win32gui.FindWindow(None, '모니터링 프로그램');\n",
    "def print_this(var):\n",
    "    callers_local_vars = inspect.currentframe().f_back.f_locals.items()\n",
    "#     print(callers_local_vars)\n",
    "    print(str([k for k, v in callers_local_vars if v is var][0])+': '+str(var))\n",
    "print_this(hwnd)\n",
    "# Change the line below depending on whether you want the whole window\n",
    "# or just the client area. \n",
    "left, top, right, bot = win32gui.GetWindowRect(hwnd)\n",
    "w = right - left\n",
    "h = bot - top\n",
    "\n",
    "hwndDC = win32gui.GetWindowDC(hwnd);print_this(hwndDC)\n",
    "mfcDC  = win32ui.CreateDCFromHandle(hwndDC);print_this(mfcDC)\n",
    "saveDC = mfcDC.CreateCompatibleDC();print_this(saveDC)\n",
    "\n",
    "saveBitMap = win32ui.CreateBitmap();print_this(saveBitMap);print(saveBitMap)\n",
    "saveBitMap.CreateCompatibleBitmap(mfcDC, w, h)\n",
    "\n",
    "saveDC.SelectObject(saveBitMap)\n",
    "\n",
    "# Change the line below depending on whether you want the whole window\n",
    "# or just the client area. \n",
    "#result = windll.user32.PrintWindow(hwnd, saveDC.GetSafeHdc(), 1)\n",
    "result = windll.user32.PrintWindow(hwnd, saveDC.GetSafeHdc(), 0);print_this(result);\n",
    "\n",
    "\n",
    "bmpinfo = saveBitMap.GetInfo();print_this(bmpinfo)\n",
    "bmpstr = saveBitMap.GetBitmapBits(True);print_this(bmpstr)\n",
    "\n",
    "im = Image.frombuffer(\n",
    "    'RGB',\n",
    "    (bmpinfo['bmWidth'], bmpinfo['bmHeight']),\n",
    "    bmpstr, 'raw', 'BGRX', 0, 1)\n",
    "win32gui.DeleteObject(saveBitMap.GetHandle())\n",
    "saveDC.DeleteDC()\n",
    "mfcDC.DeleteDC()\n",
    "win32gui.ReleaseDC(hwnd, hwndDC)\n",
    "im.show()"
   ]
  },
  {
   "cell_type": "code",
   "execution_count": null,
   "metadata": {},
   "outputs": [],
   "source": [
    "import cv2,win32gui,win32ui;from PIL import Image;import numpy as np;from ctypes import windll\n",
    "def rec():\n",
    "    hwnd = win32gui.FindWindow(None,'모니터링 프로그램');hwndDC = win32gui.GetWindowDC(hwnd)\n",
    "    left,top,right,bot = win32gui.GetWindowRect(hwnd);w = right-left;h = bot - top\n",
    "\n",
    "    handle  = win32ui.CreateDCFromHandle(hwndDC)\n",
    "    compatible = handle.CreateCompatibleDC()\n",
    "    bitmap = win32ui.CreateBitmap()\n",
    "    bitmap.CreateCompatibleBitmap(handle, w, h)\n",
    "\n",
    "    compatible.SelectObject(bitmap)\n",
    "    result = windll.user32.PrintWindow(hwnd, compatible.GetSafeHdc(), 0)#@@@@@@@@@@@@@@@@@@@@@@@@@@@@@@@@@@@@@@@@@@\n",
    "    bmpinfo = bitmap.GetInfo()\n",
    "    bmpstr = bitmap.GetBitmapBits(True)\n",
    "\n",
    "    im = Image.frombuffer(\n",
    "        'RGB',\n",
    "        (bmpinfo['bmWidth'], bmpinfo['bmHeight']),\n",
    "        bmpstr, 'raw', 'BGRX', 0, 1)\n",
    "    win32gui.DeleteObject(bitmap.GetHandle())\n",
    "    compatible.DeleteDC()\n",
    "    handle.DeleteDC()\n",
    "    win32gui.ReleaseDC(hwnd, hwndDC)\n",
    "    return im\n",
    "\n",
    "while True:\n",
    "    try : \n",
    "        im = rec()\n",
    "        cv2.imshow('hello',cv2.cvtColor(np.array(im),cv2.COLOR_BGR2RGB))\n",
    "        if cv2.waitKey(30) ==ord('q'):cv2.destroyAllWindows();break\n",
    "    except:print('error발생');continue"
   ]
  }
 ],
 "metadata": {
  "kernelspec": {
   "display_name": "Python 3",
   "language": "python",
   "name": "python3"
  },
  "language_info": {
   "codemirror_mode": {
    "name": "ipython",
    "version": 3
   },
   "file_extension": ".py",
   "mimetype": "text/x-python",
   "name": "python",
   "nbconvert_exporter": "python",
   "pygments_lexer": "ipython3",
   "version": "3.7.4"
  }
 },
 "nbformat": 4,
 "nbformat_minor": 2
}
