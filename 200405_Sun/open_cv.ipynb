{
 "cells": [
  {
   "cell_type": "code",
   "execution_count": 4,
   "metadata": {},
   "outputs": [],
   "source": [
    "import cv2;from PIL import ImageGrab;import numpy as np\n",
    "ng = cv2.cvtColor(np.array(ImageGrab.grab(bbox=(50,50,500,500))),cv2.COLOR_BGR2RGB)\n",
    "cv2.imshow('hello',ng)\n",
    "if cv2.waitKey(0) == ord('q'):cv2.destroyAllWindows()"
   ]
  },
  {
   "cell_type": "code",
   "execution_count": 5,
   "metadata": {},
   "outputs": [],
   "source": [
    "import cv2;from PIL import ImageGrab;import numpy as np\n",
    "while True:\n",
    "    ng = cv2.cvtColor(np.array(ImageGrab.grab(bbox=(50,50,500,500))),cv2.COLOR_BGR2RGB)\n",
    "    cv2.imshow('hello',ng)\n",
    "    if cv2.waitKey(25) == ord('q'):cv2.destroyAllWindows();break"
   ]
  },
  {
   "cell_type": "code",
   "execution_count": 17,
   "metadata": {},
   "outputs": [
    {
     "name": "stdout",
     "output_type": "stream",
     "text": [
      "9833884\n"
     ]
    }
   ],
   "source": [
    "game_hwnd = 0\n",
    "for (hwnd, win_text) in windows_list:\n",
    "    if \"모니터링\" in win_text:\n",
    "        game_hwnd = hwnd;print(hwnd)"
   ]
  },
  {
   "cell_type": "code",
   "execution_count": 31,
   "metadata": {
    "scrolled": true
   },
   "outputs": [
    {
     "name": "stdout",
     "output_type": "stream",
     "text": [
      "Default IME\n",
      "1 (31460046, 'open_cv - Jupyter Notebook - Chrome')\n",
      "2 (9833884, '모니터링 프로그램')\n",
      "3 (263622, '통합센터 차량관리')\n",
      "4 (1508500, 'Configure Register and Report')\n",
      "5 (31133556, 'C:\\\\WINDOWS\\\\py.exe')\n",
      "6 (12127006, 'Artvalley')\n",
      "7 (327770, '배터리 수준')\n",
      "8 (131520, 'Network Flyout')\n",
      "9 (66564, 'Window')\n",
      "10 (65854, 'TeamViewer 제어판(최소화됨)')\n",
      "11 (65852, 'TeamViewer 제어판')\n",
      "12 (9768048, 'CSpNotify Notify Window')\n",
      "13 (790148, '사주팔자 만세력 사주팔콤 - 오늘의 운세 - Internet Explorer')\n",
      "14 (8785240, '사주팔자 만세력 사주팔콤 - 오늘의 운세 - Internet Explorer')\n",
      "15 (3082760, 'DDE Server Window')\n",
      "16 (134480, '사용 중인 파일')\n",
      "17 (4721464, '.NET-BroadcastEventWindow.4.0.0.0.141b42a.0')\n",
      "18 (4590496, 'G')\n",
      "19 (2427332, 'Task Host Window')\n",
      "20 (5900146, 'StSess32')\n",
      "21 (327904, 'StSess')\n",
      "22 (2557014, '.NET-BroadcastEventWindow.4.0.0.0.34f5582.0')\n",
      "23 (5049114, 'G')\n",
      "24 (131244, '##VSO###MCVSSHLD##')\n",
      "25 (131200, 'McPlatformSingleExeFramework')\n",
      "26 (2623970, 'Microsoft Text Input Application')\n",
      "27 (68016, 'Microsoft Edge')\n",
      "28 (133504, 'Microsoft Edge')\n",
      "29 (655400, 'Microsoft Edge')\n",
      "30 (67724, '.NET-BroadcastEventWindow.4.0.0.0.2f2004.0')\n",
      "31 (67722, 'MsgWnd')\n",
      "32 (67718, 'G')\n",
      "33 (67682, 'C:\\\\Program Files\\\\Samsung\\\\SamsungUpdate\\\\SUEngine.exe')\n",
      "34 (131276, 'RealtekAudioBackgroundProcessClass')\n",
      "35 (196688, 'Realtek HD Audio CPL for Vista')\n",
      "36 (196716, 'G')\n",
      "37 (131602, 'SecurityHealthSystray')\n",
      "38 (394214, 'MS_WebcheckMonitor')\n",
      "39 (196672, 'BluetoothNotificationAreaIconWindowClass')\n",
      "40 (131804, 'DDE Server Window')\n",
      "41 (197330, '{30A1588D-127B-4CC0-BA47-B11825F07731}')\n",
      "42 (131184, 'delfino')\n",
      "43 (131876, 'nProtect Online Security')\n",
      "44 (131836, 'nProtect Online Security')\n",
      "45 (131806, 'nProtect Online Security')\n",
      "46 (66210, 'nProtect Online Security')\n",
      "47 (66200, 'nProtect Online Security   ')\n",
      "48 (66196, 'npkfxnaxServerWindow_0')\n",
      "49 (66126, 'G')\n",
      "50 (66076, 'G')\n",
      "51 (66078, 'SamsungSettingsExpansionUI')\n",
      "52 (66050, 'G')\n",
      "53 (66010, 'SamsungSettingsExpansionPack')\n",
      "54 (65816, 'sServiceKeyMonitor')\n",
      "55 (65794, 'The Event Manager Dashboard')\n",
      "56 (131246, 'TeamViewer')\n",
      "57 (65782, 'TeamViewer - 파일 전송 이벤트 로그')\n",
      "58 (65736, 'Windows Push Notifications Platform')\n",
      "59 (65700, 'TVMainThreadCall')\n",
      "60 (65694, 'G')\n",
      "61 (65684, 'Task Host Window')\n",
      "62 (65584, 'DWM Notification Window')\n",
      "63 (132176, 'G')\n",
      "64 (66676, 'G')\n",
      "65 (66666, '.NET-BroadcastEventWindow.4.0.0.0.ea7f4a.0')\n",
      "66 (66662, 'SkypeBridge')\n",
      "67 (66612, 'CAvastTrayIcon')\n",
      "68 (721964, 'YPClipboardListener')\n",
      "69 (394254, 'DDE Server Window')\n",
      "70 (263150, 'OneDrive')\n",
      "71 (65988, 'Program Manager')\n"
     ]
    }
   ],
   "source": [
    "import win32gui\n",
    "windows_list = []\n",
    "toplist = []\n",
    "def enum_win(hwnd, result):\n",
    "    win_text = win32gui.GetWindowText(hwnd)\n",
    "    windows_list.append((hwnd, win_text))\n",
    "win32gui.EnumWindows(enum_win, toplist)\n",
    "print(win_text);idx = 0\n",
    "for i in windows_list:\n",
    "    if 'Default IME' not in i and '' != i[1] and 'MSCTFIME UI' not in i :idx +=1 ;print(idx,i)"
   ]
  }
 ],
 "metadata": {
  "kernelspec": {
   "display_name": "Python 3",
   "language": "python",
   "name": "python3"
  },
  "language_info": {
   "codemirror_mode": {
    "name": "ipython",
    "version": 3
   },
   "file_extension": ".py",
   "mimetype": "text/x-python",
   "name": "python",
   "nbconvert_exporter": "python",
   "pygments_lexer": "ipython3",
   "version": "3.7.4"
  }
 },
 "nbformat": 4,
 "nbformat_minor": 4
}
