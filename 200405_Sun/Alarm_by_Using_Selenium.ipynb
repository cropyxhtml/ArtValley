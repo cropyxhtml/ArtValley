{
 "cells": [
  {
   "cell_type": "code",
   "execution_count": 60,
   "metadata": {},
   "outputs": [],
   "source": [
    "import datetime\n",
    "def clock():\n",
    "    now_date = datetime.datetime.now()\n",
    "    y = now_date.year;y = y\n",
    "    m = now_date.month;m = m\n",
    "    d = now_date.day;d = d\n",
    "    H = now_date.hour;H = H\n",
    "    M = now_date.minute;M = M+1\n",
    "    import tkinter as tk\n",
    "    w = tk.Tk();w.title('Clock')\n",
    "    def clock_process():\n",
    "        strtime = datetime.datetime.now()\n",
    "        if strtime > datetime.datetime(y,m,d,H,M,0,0):w.destroy();return\n",
    "        l1.config(text=strtime.strftime('%H:%M:%S'))\n",
    "        w.after(20,clock_process)\n",
    "    l1 = tk.Label(w,font='ariel 93 bold')#('freemono',95,'bold'))# courier, ariel, helvetica\n",
    "    l1.pack()\n",
    "    clock_process()\n",
    "    w.mainloop()\n",
    "clock()\n"
   ]
  },
  {
   "cell_type": "code",
   "execution_count": 64,
   "metadata": {},
   "outputs": [],
   "source": [
    "from selenium import webdriver\n",
    "driver = webdriver.Chrome('../chromedriver.exe')\n",
    "driver.get('https://www.naver.com')"
   ]
  }
 ],
 "metadata": {
  "kernelspec": {
   "display_name": "Python 3",
   "language": "python",
   "name": "python3"
  },
  "language_info": {
   "codemirror_mode": {
    "name": "ipython",
    "version": 3
   },
   "file_extension": ".py",
   "mimetype": "text/x-python",
   "name": "python",
   "nbconvert_exporter": "python",
   "pygments_lexer": "ipython3",
   "version": "3.8.1"
  }
 },
 "nbformat": 4,
 "nbformat_minor": 4
}
