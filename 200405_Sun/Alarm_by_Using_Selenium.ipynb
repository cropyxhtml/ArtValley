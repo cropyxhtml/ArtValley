{
 "cells": [
  {
   "cell_type": "code",
   "execution_count": 60,
   "metadata": {},
   "outputs": [],
   "source": [
    "import datetime\n",
    "def clock():\n",
    "    now_date = datetime.datetime.now()\n",
    "    y = now_date.year;y = y\n",
    "    m = now_date.month;m = m\n",
    "    d = now_date.day;d = d\n",
    "    H = now_date.hour;H = H\n",
    "    M = now_date.minute;M = M+1\n",
    "    import tkinter as tk\n",
    "    w = tk.Tk();w.title('Clock')\n",
    "    def clock_process():\n",
    "        strtime = datetime.datetime.now()\n",
    "        if strtime > datetime.datetime(y,m,d,H,M,0,0):w.destroy();return\n",
    "        l1.config(text=strtime.strftime('%H:%M:%S'))\n",
    "        w.after(20,clock_process)\n",
    "    l1 = tk.Label(w,font='ariel 93 bold')#('freemono',95,'bold'))# courier, ariel, helvetica\n",
    "    l1.pack()\n",
    "    clock_process()\n",
    "    w.mainloop()\n",
    "clock()\n"
   ]
  },
  {
   "cell_type": "code",
   "execution_count": 6,
   "metadata": {},
   "outputs": [],
   "source": [
    "from selenium import webdriver\n",
    "from bs4 import BeautifulSoup\n",
    "driver = webdriver.Chrome('../chromedriver.exe')\n",
    "url = 'https://search.naver.com/search.naver?where=article&query=%EB%93%80%EC%96%BC%ED%8A%B8%EB%A1%A0&ie=utf8&st=date&date_option=0&date_from=&date_to=&board=&srchby=text&dup_remove=1&cafe_url=&without_cafe_url=&sm=tab_srt&nso=so%3Add%2Cp%3Aall%2Ca%3Aall&t=0&mson=0&prdtype=0'\n",
    "driver.get(url)\n",
    "text = driver.page_source\n",
    "soup = BeautifulSoup(text,'lxml')"
   ]
  },
  {
   "cell_type": "code",
   "execution_count": 41,
   "metadata": {},
   "outputs": [],
   "source": [
    "tag_list = []; tag_prior = []\n",
    "tags = soup.select('#elThumbnailResultArea > li > dl > dt > a')\n",
    "for tag in tags:tag_list.append(tag.text)\n",
    "\n",
    "def alarm():\n",
    "    import tkinter as tk\n",
    "    from tkinter import ttk\n",
    "    win = tk.Tk();win.title('알림')\n",
    "    l1 = tk.Label(win,text = '\\n'.join(tag_prior[:5])).pack()\n",
    "    def 확인(event = None): win.destroy()\n",
    "    b1 = ttk.Button(win,text = '확인',command = 확인)\n",
    "    win.bind('<Return>',확인)\n",
    "    win.atrribute('-topmost',)\n",
    "    b1.pack()\n",
    "    win.mainloop()\n",
    "if tag_list[:5] != tag_prior:tag_prior[:5] = tag_list;alarm()\n",
    "    "
   ]
  },
  {
   "cell_type": "code",
   "execution_count": null,
   "metadata": {},
   "outputs": [],
   "source": []
  }
 ],
 "metadata": {
  "kernelspec": {
   "display_name": "Python 3",
   "language": "python",
   "name": "python3"
  },
  "language_info": {
   "codemirror_mode": {
    "name": "ipython",
    "version": 3
   },
   "file_extension": ".py",
   "mimetype": "text/x-python",
   "name": "python",
   "nbconvert_exporter": "python",
   "pygments_lexer": "ipython3",
   "version": "3.7.4"
  }
 },
 "nbformat": 4,
 "nbformat_minor": 4
}
