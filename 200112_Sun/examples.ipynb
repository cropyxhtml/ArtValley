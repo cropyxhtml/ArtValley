{
 "cells": [
  {
   "cell_type": "code",
   "execution_count": 16,
   "metadata": {},
   "outputs": [
    {
     "name": "stdout",
     "output_type": "stream",
     "text": [
      "24\n"
     ]
    }
   ],
   "source": [
    "import cv2 #ref https://www.quora.com/How-can-I-detect-an-object-from-static-image-and-crop-it-from-the-image-using-openCV\n",
    "#reading the image \n",
    "image = cv2.imread(\"temp0.jpg\")\n",
    "edged = cv2.Canny(image, 10, 250)\n",
    "\n",
    "# if cv2.waitKey(0) ==ord('q'):cv2.destroyAllWindows()\n",
    " \n",
    "#applying closing function \n",
    "kernel = cv2.getStructuringElement(cv2.MORPH_RECT, (15, 15))\n",
    "closed = cv2.morphologyEx(edged, cv2.MORPH_CLOSE, kernel)\n",
    "\n",
    "# if cv2.waitKey(0) ==ord('q'):cv2.destroyAllWindows()\n",
    " \n",
    "#finding_contours \n",
    "(cnts, _) = cv2.findContours(closed.copy(), cv2.RETR_EXTERNAL, cv2.CHAIN_APPROX_SIMPLE)\n",
    "print(len(cnts))\n",
    "for c in cnts:\n",
    "    peri = cv2.arcLength(c, True)\n",
    "    approx = cv2.approxPolyDP(c, 0.02 * peri, True)\n",
    "    cv2.drawContours(image, [approx], -1, (0, 255, 0), 2)\n",
    "cv2.imshow(\"Edges\", cv2.resize(edged,None,fx=0.4, fy=0.3,interpolation=cv2.INTER_AREA))\n",
    "cv2.imshow(\"Closed\", cv2.resize(closed,None,fx=0.4, fy=0.3,interpolation=cv2.INTER_AREA))\n",
    "cv2.imshow(\"Output\", cv2.resize(image,None,fx=0.4, fy=0.3,interpolation=cv2.INTER_AREA))\n",
    "if cv2.waitKey(0) ==ord('q'):cv2.destroyAllWindows()"
   ]
  },
  {
   "cell_type": "code",
   "execution_count": 48,
   "metadata": {},
   "outputs": [],
   "source": [
    "import cv2 #ref https://www.youtube.com/watch?v=KEYzUP7-kkU\n",
    "import numpy as np\n",
    "\n",
    "# img = cv2.imread(\"lines.png\")\n",
    "img = cv2.imread('temp0.jpg')\n",
    "gray = cv2.cvtColor(img, cv2.COLOR_BGR2GRAY)\n",
    "edges = cv2.Canny(gray, 75, 150)\n",
    "lines = cv2.HoughLinesP(edges, 1, np.pi/180, 400,maxLineGap=1000)\n",
    "for line in lines:\n",
    "    x1,y1,x2,y2 = line[0]\n",
    "    cv2.line(img,(x1,y1),(x2,y2),(0,255,0),3)\n",
    "cv2.imshow('window1',cv2.resize(img,None,fx=0.4,fy=0.3,interpolation=cv2.INTER_AREA))\n",
    "cv2.imshow('window',cv2.resize(edges,None,fx=0.4,fy=0.3,interpolation=cv2.INTER_AREA))\n",
    "if cv2.waitKey(0) == ord('q'):cv2.destroyAllWindows()"
   ]
  }
 ],
 "metadata": {
  "kernelspec": {
   "display_name": "Python 3",
   "language": "python",
   "name": "python3"
  },
  "language_info": {
   "codemirror_mode": {
    "name": "ipython",
    "version": 3
   },
   "file_extension": ".py",
   "mimetype": "text/x-python",
   "name": "python",
   "nbconvert_exporter": "python",
   "pygments_lexer": "ipython3",
   "version": "3.7.4"
  }
 },
 "nbformat": 4,
 "nbformat_minor": 2
}
